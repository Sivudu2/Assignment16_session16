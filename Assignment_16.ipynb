{
 "cells": [
  {
   "cell_type": "code",
   "execution_count": 7,
   "metadata": {},
   "outputs": [
    {
     "name": "stdout",
     "output_type": "stream",
     "text": [
      "probability of failure 0.2023312\n"
     ]
    }
   ],
   "source": [
    "import numpy as np\n",
    "from scipy.special import factorial\n",
    "from scipy.stats import binom\n",
    "import matplotlib.pyplot as plt\n",
    "\n",
    "#Problem Statement 1:\n",
    "#A test is conducted which is consisting of 20 MCQs (multiple choices questions) with\n",
    "#every MCQ having its four options out of which only one is correct. Determine the\n",
    "#probability that a person undertaking that test has answered exactly 5 questions wrong.\n",
    "\n",
    "#n = total questions\n",
    "#w = wrong answered questions\n",
    "#c = correct answered questions\n",
    "#p_c =  probability of correct answered questions\n",
    "#p_w = probablity of wrong answered questions\n",
    " \n",
    "n = 20\n",
    "w = 5\n",
    "\n",
    "c = n-w\n",
    "\n",
    "p_c = w/n \n",
    "p_w = 1-p_c\n",
    "\n",
    "#it matches with assumptions of binomial distributions. probablity of wrong\n",
    "#formual for binomial distribution p(x) = (n!/(x!*(n-x)!) p^x *(1-p)^(n-x)\n",
    "\n",
    "p = (factorial(n)/(factorial(w) * factorial(n-w))) * np.power(p_c, w) * np.power(p_w ,c)\n",
    "\n",
    "print(\"probability of failure {:0.7f}\".format(p))\n"
   ]
  },
  {
   "cell_type": "code",
   "execution_count": 8,
   "metadata": {},
   "outputs": [
    {
     "name": "stdout",
     "output_type": "stream",
     "text": [
      "Probability of getting excatly D in 5 throws out of  50 number of trails conducted is 0.2\n"
     ]
    }
   ],
   "source": [
    "\n",
    "#Problem Statement 2:\n",
    "#A die marked A to E is rolled 50 times. Find the probability of getting a “D” exactly 5\n",
    "#times.\n",
    "p = 1/5\n",
    "n = 50\n",
    "k =5\n",
    "failures = n - k\n",
    "#The probability of success = probability of getting a “D”\n",
    "p_s = 1/k\n",
    "\n",
    "#Hence, the probability of failure = probability of not getting a “D” = \n",
    "p_f = 1 - p_s \n",
    "\n",
    "\n",
    "print(\"Probability of getting excatly D in {} throws out of  {} number of trails conducted is {}\".format(k,n,p_s))\n"
   ]
  },
  {
   "cell_type": "code",
   "execution_count": 9,
   "metadata": {},
   "outputs": [
    {
     "name": "stdout",
     "output_type": "stream",
     "text": [
      "The probabilities of all possible outcomes of picking Red ball first,Black Ball second is (0.40,0.67)\n",
      "The probabilities of all possible outcomes of picking black ball first,red Ball second is (0.60,0.44)\n",
      "The probabilities of all possible outcomes of picking both the balls as black is 0.0000000002\n",
      "The probabilities of all possible outcomes of picking both the balls as red is 0.0000000001\n"
     ]
    }
   ],
   "source": [
    "#Problem Statement 3:\n",
    "\n",
    "#Two balls are drawn at random in succession without replacement from an urn containing 4 red balls and 6 black balls. Find the probabilities of all the possible outcomes.\n",
    "\n",
    "red_ball = 4\n",
    "black_ball = 6\n",
    "total_balls = red_ball + black_ball\n",
    "\n",
    "\n",
    "p_first_red_ball = red_ball / total_balls\n",
    "\n",
    "p_second_black_ball  = black_ball / (total_balls - 1)\n",
    "\n",
    "\n",
    "p_first_black_ball = black_ball / total_balls\n",
    "\n",
    "p_second_red_ball  = red_ball / (total_balls - 1)\n",
    "\n",
    "\n",
    "P_2_r  = (factorial(red_ball) / (factorial(2) * factorial(red_ball - 2))) / (factorial(total_balls) / factorial(2)* factorial(total_balls - 2))\n",
    "\n",
    "\n",
    "P_2_b  = (factorial(black_ball) / (factorial(2) * factorial(black_ball -2))) / (factorial(total_balls) / factorial(2)* factorial(total_balls - 2))\n",
    "\n",
    "print(\"The probabilities of all possible outcomes of picking Red ball first,Black Ball second is ({:0.2f},{:0.2f})\".format(p_first_red_ball,p_second_black_ball))\n",
    "\n",
    "\n",
    "print(\"The probabilities of all possible outcomes of picking black ball first,red Ball second is ({:0.2f},{:0.2f})\".format(p_first_black_ball,p_second_red_ball))\n",
    "\n",
    "\n",
    "print(\"The probabilities of all possible outcomes of picking both the balls as black is {:0.10f}\".format(P_2_b))\n",
    "\n",
    "\n",
    "print(\"The probabilities of all possible outcomes of picking both the balls as red is {:0.10f}\".format(P_2_r))\n"
   ]
  },
  {
   "cell_type": "code",
   "execution_count": null,
   "metadata": {},
   "outputs": [],
   "source": []
  }
 ],
 "metadata": {
  "kernelspec": {
   "display_name": "Python 3",
   "language": "python",
   "name": "python3"
  },
  "language_info": {
   "codemirror_mode": {
    "name": "ipython",
    "version": 3
   },
   "file_extension": ".py",
   "mimetype": "text/x-python",
   "name": "python",
   "nbconvert_exporter": "python",
   "pygments_lexer": "ipython3",
   "version": "3.6.5"
  }
 },
 "nbformat": 4,
 "nbformat_minor": 2
}
